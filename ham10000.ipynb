{
  "cells": [
    {
      "cell_type": "code",
      "execution_count": null,
      "metadata": {
        "id": "hr05uFLZxh1T"
      },
      "outputs": [],
      "source": [
        "import numpy as np\n",
        "import pandas as pd\n",
        "import random\n",
        "\n",
        "from tensorflow import keras\n",
        "from tensorflow.keras.datasets import mnist\n",
        "from tensorflow.keras.datasets import fashion_mnist\n",
        "\n",
        "from tensorflow.keras.models import Sequential\n",
        "from tensorflow.keras.layers import Activation, Conv2D, MaxPooling2D, Dense, Flatten\n",
        "from tensorflow.keras.layers import Dropout, BatchNormalization\n",
        "from tensorflow.keras.utils import to_categorical \n",
        "\n",
        "from keras.callbacks import ModelCheckpoint \n",
        "\n",
        "from sklearn.metrics import confusion_matrix\n",
        "import matplotlib.pyplot as plt"
      ]
    },
    {
      "cell_type": "code",
      "execution_count": null,
      "metadata": {
        "colab": {
          "base_uri": "https://localhost:8080/"
        },
        "id": "UtJQPPinJVTp",
        "outputId": "a876caa8-814b-4335-9f6f-e783ca3e53b4"
      },
      "outputs": [
        {
          "name": "stdout",
          "output_type": "stream",
          "text": [
            "Random seed set as 42\n"
          ]
        }
      ],
      "source": [
        "import torch\n",
        "import torchvision\n",
        "import torchvision.transforms as T # data augmentation\n",
        "import torchvision.models as models # to get pretrained models\n",
        "import torch.nn as nn # to build NN, criterion\n",
        "import torch.optim as optim # optimizer\n",
        "\n",
        "# plotting and evaluation\n",
        "import seaborn as sns \n",
        "import matplotlib.pyplot as plt \n",
        "from sklearn.metrics import confusion_matrix # performance evaluation\n",
        "\n",
        "# Datapipe Line\n",
        "import pandas as pd # read csv\n",
        "from imblearn.over_sampling import RandomOverSampler as ROS # training data oversampling\n",
        "from sklearn.model_selection import train_test_split # splitting dataframes\n",
        "from torch.utils.data import Dataset, DataLoader # data pipeline\n",
        "\n",
        "# utils\n",
        "import numpy as np\n",
        "import os\n",
        "import random\n",
        "import torch.nn.functional as F # softmax\n",
        "from tqdm import tqdm # progress visualisation\n",
        "\n",
        "# Setting device\n",
        "DEVICE = 'cuda' if torch.cuda.is_available() else 'cpu'\n",
        "\n",
        "# For reproducibility\n",
        "RANDOM_SEED = 42 \n",
        "\n",
        "def set_seed(seed):\n",
        "    np.random.seed(seed)\n",
        "    random.seed(seed)\n",
        "    torch.manual_seed(seed)\n",
        "    torch.cuda.manual_seed(seed)\n",
        "    # When running on the CuDNN backend, two further options must be set\n",
        "    torch.backends.cudnn.deterministic = True\n",
        "    torch.backends.cudnn.benchmark = False\n",
        "    # Set a fixed value for the hash seed\n",
        "    os.environ[\"PYTHONHASHSEED\"] = str(seed)\n",
        "    print(f\"Random seed set as {seed}\")\n",
        "\n",
        "set_seed(RANDOM_SEED)"
      ]
    },
    {
      "cell_type": "code",
      "execution_count": null,
      "metadata": {
        "colab": {
          "base_uri": "https://localhost:8080/"
        },
        "id": "erXRL3NOCpDq",
        "outputId": "bebfe516-c04f-4515-8356-8076ea8a45aa"
      },
      "outputs": [
        {
          "name": "stdout",
          "output_type": "stream",
          "text": [
            "Mounted at /content/gdrive\n"
          ]
        }
      ],
      "source": [
        "from google.colab import drive\n",
        "drive.mount('/content/gdrive')"
      ]
    },
    {
      "cell_type": "code",
      "execution_count": null,
      "metadata": {
        "colab": {
          "background_save": true,
          "base_uri": "https://localhost:8080/",
          "height": 265
        },
        "id": "x5DlTinEfRUE",
        "outputId": "347957ed-82ba-4a7d-fab4-8cf7aac91cf1"
      },
      "outputs": [
        {
          "name": "stdout",
          "output_type": "stream",
          "text": [
            "Looking in indexes: https://pypi.org/simple, https://us-python.pkg.dev/colab-wheels/public/simple/\n",
            "Requirement already satisfied: kaggle in /usr/local/lib/python3.7/dist-packages (1.5.12)\n",
            "Requirement already satisfied: tqdm in /usr/local/lib/python3.7/dist-packages (from kaggle) (4.64.1)\n",
            "Requirement already satisfied: six>=1.10 in /usr/local/lib/python3.7/dist-packages (from kaggle) (1.15.0)\n",
            "Requirement already satisfied: python-slugify in /usr/local/lib/python3.7/dist-packages (from kaggle) (6.1.2)\n",
            "Requirement already satisfied: python-dateutil in /usr/local/lib/python3.7/dist-packages (from kaggle) (2.8.2)\n",
            "Requirement already satisfied: urllib3 in /usr/local/lib/python3.7/dist-packages (from kaggle) (1.24.3)\n",
            "Requirement already satisfied: requests in /usr/local/lib/python3.7/dist-packages (from kaggle) (2.23.0)\n",
            "Requirement already satisfied: certifi in /usr/local/lib/python3.7/dist-packages (from kaggle) (2022.9.24)\n",
            "Requirement already satisfied: text-unidecode>=1.3 in /usr/local/lib/python3.7/dist-packages (from python-slugify->kaggle) (1.3)\n",
            "Requirement already satisfied: chardet<4,>=3.0.2 in /usr/local/lib/python3.7/dist-packages (from requests->kaggle) (3.0.4)\n",
            "Requirement already satisfied: idna<3,>=2.5 in /usr/local/lib/python3.7/dist-packages (from requests->kaggle) (2.10)\n"
          ]
        },
        {
          "data": {
            "text/html": [
              "\n",
              "     <input type=\"file\" id=\"files-7b9832f5-922c-4394-b4f8-c4fa68f81e84\" name=\"files[]\" multiple disabled\n",
              "        style=\"border:none\" />\n",
              "     <output id=\"result-7b9832f5-922c-4394-b4f8-c4fa68f81e84\">\n",
              "      Upload widget is only available when the cell has been executed in the\n",
              "      current browser session. Please rerun this cell to enable.\n",
              "      </output>\n",
              "      <script>// Copyright 2017 Google LLC\n",
              "//\n",
              "// Licensed under the Apache License, Version 2.0 (the \"License\");\n",
              "// you may not use this file except in compliance with the License.\n",
              "// You may obtain a copy of the License at\n",
              "//\n",
              "//      http://www.apache.org/licenses/LICENSE-2.0\n",
              "//\n",
              "// Unless required by applicable law or agreed to in writing, software\n",
              "// distributed under the License is distributed on an \"AS IS\" BASIS,\n",
              "// WITHOUT WARRANTIES OR CONDITIONS OF ANY KIND, either express or implied.\n",
              "// See the License for the specific language governing permissions and\n",
              "// limitations under the License.\n",
              "\n",
              "/**\n",
              " * @fileoverview Helpers for google.colab Python module.\n",
              " */\n",
              "(function(scope) {\n",
              "function span(text, styleAttributes = {}) {\n",
              "  const element = document.createElement('span');\n",
              "  element.textContent = text;\n",
              "  for (const key of Object.keys(styleAttributes)) {\n",
              "    element.style[key] = styleAttributes[key];\n",
              "  }\n",
              "  return element;\n",
              "}\n",
              "\n",
              "// Max number of bytes which will be uploaded at a time.\n",
              "const MAX_PAYLOAD_SIZE = 100 * 1024;\n",
              "\n",
              "function _uploadFiles(inputId, outputId) {\n",
              "  const steps = uploadFilesStep(inputId, outputId);\n",
              "  const outputElement = document.getElementById(outputId);\n",
              "  // Cache steps on the outputElement to make it available for the next call\n",
              "  // to uploadFilesContinue from Python.\n",
              "  outputElement.steps = steps;\n",
              "\n",
              "  return _uploadFilesContinue(outputId);\n",
              "}\n",
              "\n",
              "// This is roughly an async generator (not supported in the browser yet),\n",
              "// where there are multiple asynchronous steps and the Python side is going\n",
              "// to poll for completion of each step.\n",
              "// This uses a Promise to block the python side on completion of each step,\n",
              "// then passes the result of the previous step as the input to the next step.\n",
              "function _uploadFilesContinue(outputId) {\n",
              "  const outputElement = document.getElementById(outputId);\n",
              "  const steps = outputElement.steps;\n",
              "\n",
              "  const next = steps.next(outputElement.lastPromiseValue);\n",
              "  return Promise.resolve(next.value.promise).then((value) => {\n",
              "    // Cache the last promise value to make it available to the next\n",
              "    // step of the generator.\n",
              "    outputElement.lastPromiseValue = value;\n",
              "    return next.value.response;\n",
              "  });\n",
              "}\n",
              "\n",
              "/**\n",
              " * Generator function which is called between each async step of the upload\n",
              " * process.\n",
              " * @param {string} inputId Element ID of the input file picker element.\n",
              " * @param {string} outputId Element ID of the output display.\n",
              " * @return {!Iterable<!Object>} Iterable of next steps.\n",
              " */\n",
              "function* uploadFilesStep(inputId, outputId) {\n",
              "  const inputElement = document.getElementById(inputId);\n",
              "  inputElement.disabled = false;\n",
              "\n",
              "  const outputElement = document.getElementById(outputId);\n",
              "  outputElement.innerHTML = '';\n",
              "\n",
              "  const pickedPromise = new Promise((resolve) => {\n",
              "    inputElement.addEventListener('change', (e) => {\n",
              "      resolve(e.target.files);\n",
              "    });\n",
              "  });\n",
              "\n",
              "  const cancel = document.createElement('button');\n",
              "  inputElement.parentElement.appendChild(cancel);\n",
              "  cancel.textContent = 'Cancel upload';\n",
              "  const cancelPromise = new Promise((resolve) => {\n",
              "    cancel.onclick = () => {\n",
              "      resolve(null);\n",
              "    };\n",
              "  });\n",
              "\n",
              "  // Wait for the user to pick the files.\n",
              "  const files = yield {\n",
              "    promise: Promise.race([pickedPromise, cancelPromise]),\n",
              "    response: {\n",
              "      action: 'starting',\n",
              "    }\n",
              "  };\n",
              "\n",
              "  cancel.remove();\n",
              "\n",
              "  // Disable the input element since further picks are not allowed.\n",
              "  inputElement.disabled = true;\n",
              "\n",
              "  if (!files) {\n",
              "    return {\n",
              "      response: {\n",
              "        action: 'complete',\n",
              "      }\n",
              "    };\n",
              "  }\n",
              "\n",
              "  for (const file of files) {\n",
              "    const li = document.createElement('li');\n",
              "    li.append(span(file.name, {fontWeight: 'bold'}));\n",
              "    li.append(span(\n",
              "        `(${file.type || 'n/a'}) - ${file.size} bytes, ` +\n",
              "        `last modified: ${\n",
              "            file.lastModifiedDate ? file.lastModifiedDate.toLocaleDateString() :\n",
              "                                    'n/a'} - `));\n",
              "    const percent = span('0% done');\n",
              "    li.appendChild(percent);\n",
              "\n",
              "    outputElement.appendChild(li);\n",
              "\n",
              "    const fileDataPromise = new Promise((resolve) => {\n",
              "      const reader = new FileReader();\n",
              "      reader.onload = (e) => {\n",
              "        resolve(e.target.result);\n",
              "      };\n",
              "      reader.readAsArrayBuffer(file);\n",
              "    });\n",
              "    // Wait for the data to be ready.\n",
              "    let fileData = yield {\n",
              "      promise: fileDataPromise,\n",
              "      response: {\n",
              "        action: 'continue',\n",
              "      }\n",
              "    };\n",
              "\n",
              "    // Use a chunked sending to avoid message size limits. See b/62115660.\n",
              "    let position = 0;\n",
              "    do {\n",
              "      const length = Math.min(fileData.byteLength - position, MAX_PAYLOAD_SIZE);\n",
              "      const chunk = new Uint8Array(fileData, position, length);\n",
              "      position += length;\n",
              "\n",
              "      const base64 = btoa(String.fromCharCode.apply(null, chunk));\n",
              "      yield {\n",
              "        response: {\n",
              "          action: 'append',\n",
              "          file: file.name,\n",
              "          data: base64,\n",
              "        },\n",
              "      };\n",
              "\n",
              "      let percentDone = fileData.byteLength === 0 ?\n",
              "          100 :\n",
              "          Math.round((position / fileData.byteLength) * 100);\n",
              "      percent.textContent = `${percentDone}% done`;\n",
              "\n",
              "    } while (position < fileData.byteLength);\n",
              "  }\n",
              "\n",
              "  // All done.\n",
              "  yield {\n",
              "    response: {\n",
              "      action: 'complete',\n",
              "    }\n",
              "  };\n",
              "}\n",
              "\n",
              "scope.google = scope.google || {};\n",
              "scope.google.colab = scope.google.colab || {};\n",
              "scope.google.colab._files = {\n",
              "  _uploadFiles,\n",
              "  _uploadFilesContinue,\n",
              "};\n",
              "})(self);\n",
              "</script> "
            ],
            "text/plain": [
              "<IPython.core.display.HTML object>"
            ]
          },
          "metadata": {},
          "output_type": "display_data"
        },
        {
          "ename": "TypeError",
          "evalue": "ignored",
          "output_type": "error",
          "traceback": [
            "\u001b[0;31m---------------------------------------------------------------------------\u001b[0m",
            "\u001b[0;31mTypeError\u001b[0m                                 Traceback (most recent call last)",
            "\u001b[0;32m<ipython-input-6-8090cb07c344>\u001b[0m in \u001b[0;36m<module>\u001b[0;34m\u001b[0m\n\u001b[1;32m      1\u001b[0m \u001b[0mget_ipython\u001b[0m\u001b[0;34m(\u001b[0m\u001b[0;34m)\u001b[0m\u001b[0;34m.\u001b[0m\u001b[0msystem\u001b[0m\u001b[0;34m(\u001b[0m\u001b[0;34m'pip install kaggle'\u001b[0m\u001b[0;34m)\u001b[0m\u001b[0;34m\u001b[0m\u001b[0;34m\u001b[0m\u001b[0m\n\u001b[1;32m      2\u001b[0m \u001b[0;32mfrom\u001b[0m \u001b[0mgoogle\u001b[0m\u001b[0;34m.\u001b[0m\u001b[0mcolab\u001b[0m \u001b[0;32mimport\u001b[0m \u001b[0mfiles\u001b[0m\u001b[0;34m\u001b[0m\u001b[0;34m\u001b[0m\u001b[0m\n\u001b[0;32m----> 3\u001b[0;31m \u001b[0mfiles\u001b[0m\u001b[0;34m.\u001b[0m\u001b[0mupload\u001b[0m\u001b[0;34m(\u001b[0m\u001b[0;34m)\u001b[0m\u001b[0;34m\u001b[0m\u001b[0;34m\u001b[0m\u001b[0m\n\u001b[0m",
            "\u001b[0;32m/usr/local/lib/python3.7/dist-packages/google/colab/files.py\u001b[0m in \u001b[0;36mupload\u001b[0;34m()\u001b[0m\n\u001b[1;32m     65\u001b[0m   \"\"\"\n\u001b[1;32m     66\u001b[0m \u001b[0;34m\u001b[0m\u001b[0m\n\u001b[0;32m---> 67\u001b[0;31m   \u001b[0muploaded_files\u001b[0m \u001b[0;34m=\u001b[0m \u001b[0m_upload_files\u001b[0m\u001b[0;34m(\u001b[0m\u001b[0mmultiple\u001b[0m\u001b[0;34m=\u001b[0m\u001b[0;32mTrue\u001b[0m\u001b[0;34m)\u001b[0m\u001b[0;34m\u001b[0m\u001b[0;34m\u001b[0m\u001b[0m\n\u001b[0m\u001b[1;32m     68\u001b[0m   \u001b[0;31m# Mapping from original filename to filename as saved locally.\u001b[0m\u001b[0;34m\u001b[0m\u001b[0;34m\u001b[0m\u001b[0;34m\u001b[0m\u001b[0m\n\u001b[1;32m     69\u001b[0m   \u001b[0mlocal_filenames\u001b[0m \u001b[0;34m=\u001b[0m \u001b[0mdict\u001b[0m\u001b[0;34m(\u001b[0m\u001b[0;34m)\u001b[0m\u001b[0;34m\u001b[0m\u001b[0;34m\u001b[0m\u001b[0m\n",
            "\u001b[0;32m/usr/local/lib/python3.7/dist-packages/google/colab/files.py\u001b[0m in \u001b[0;36m_upload_files\u001b[0;34m(multiple)\u001b[0m\n\u001b[1;32m    147\u001b[0m   \u001b[0mfiles\u001b[0m \u001b[0;34m=\u001b[0m \u001b[0m_collections\u001b[0m\u001b[0;34m.\u001b[0m\u001b[0mdefaultdict\u001b[0m\u001b[0;34m(\u001b[0m\u001b[0mbytes\u001b[0m\u001b[0;34m)\u001b[0m\u001b[0;34m\u001b[0m\u001b[0;34m\u001b[0m\u001b[0m\n\u001b[1;32m    148\u001b[0m \u001b[0;34m\u001b[0m\u001b[0m\n\u001b[0;32m--> 149\u001b[0;31m   \u001b[0;32mwhile\u001b[0m \u001b[0mresult\u001b[0m\u001b[0;34m[\u001b[0m\u001b[0;34m'action'\u001b[0m\u001b[0;34m]\u001b[0m \u001b[0;34m!=\u001b[0m \u001b[0;34m'complete'\u001b[0m\u001b[0;34m:\u001b[0m\u001b[0;34m\u001b[0m\u001b[0;34m\u001b[0m\u001b[0m\n\u001b[0m\u001b[1;32m    150\u001b[0m     result = _output.eval_js(\n\u001b[1;32m    151\u001b[0m         'google.colab._files._uploadFilesContinue(\"{output_id}\")'.format(\n",
            "\u001b[0;31mTypeError\u001b[0m: 'NoneType' object is not subscriptable"
          ]
        }
      ],
      "source": [
        "!pip install kaggle\n",
        "from google.colab import files\n",
        "files.upload()"
      ]
    },
    {
      "cell_type": "code",
      "execution_count": null,
      "metadata": {
        "colab": {
          "base_uri": "https://localhost:8080/"
        },
        "id": "YPqG_bqmgIFg",
        "outputId": "071cd16e-af58-4de6-b046-a8fac2412041"
      },
      "outputs": [
        {
          "name": "stdout",
          "output_type": "stream",
          "text": [
            "kaggle.json\n"
          ]
        }
      ],
      "source": [
        "ls -1ha kaggle.json"
      ]
    },
    {
      "cell_type": "code",
      "execution_count": null,
      "metadata": {
        "id": "nojw5J2ygM4v"
      },
      "outputs": [],
      "source": [
        "!mkdir -p ~/.kaggle\n",
        "!cp kaggle.json ~/.kaggle/\n",
        "# Permission Warning이 발생하지 않도록 해줍니다.\n",
        "!chmod 600 ~/.kaggle/kaggle.json\n",
        "# 내가 참가한 대회 리스트 확인\n",
        "!kaggle competitions list"
      ]
    },
    {
      "cell_type": "code",
      "execution_count": null,
      "metadata": {
        "colab": {
          "base_uri": "https://localhost:8080/"
        },
        "id": "wxdyiSpxgbfL",
        "outputId": "5607ddc9-07fc-4903-e105-3c37599c231a"
      },
      "outputs": [
        {
          "name": "stdout",
          "output_type": "stream",
          "text": [
            "Downloading skin-cancer-mnist-ham10000.zip to /content\n",
            "100% 5.20G/5.20G [02:29<00:00, 40.6MB/s]\n",
            "100% 5.20G/5.20G [02:29<00:00, 37.3MB/s]\n"
          ]
        }
      ],
      "source": [
        "! kaggle datasets download -d kmader/skin-cancer-mnist-ham10000"
      ]
    },
    {
      "cell_type": "code",
      "execution_count": null,
      "metadata": {
        "colab": {
          "base_uri": "https://localhost:8080/"
        },
        "id": "QiwNiVaigqGa",
        "outputId": "7904dbb8-2c32-4f0d-e2f8-edf692830f48"
      },
      "outputs": [
        {
          "name": "stdout",
          "output_type": "stream",
          "text": [
            "gdrive\tkaggle.json  sample_data  skin-cancer-mnist-ham10000.zip\n"
          ]
        }
      ],
      "source": [
        "!ls"
      ]
    },
    {
      "cell_type": "code",
      "execution_count": null,
      "metadata": {
        "id": "bnwD1CUrgxe4"
      },
      "outputs": [],
      "source": [
        "!unzip skin-cancer-mnist-ham10000.zip"
      ]
    },
    {
      "cell_type": "markdown",
      "metadata": {
        "id": "fwTFBCKqN081"
      },
      "source": [
        "캐글 데이터 저장//\n"
      ]
    },
    {
      "cell_type": "markdown",
      "metadata": {
        "id": "aFcDOUE1N7Qn"
      },
      "source": [
        "1. 데이터 확인"
      ]
    },
    {
      "cell_type": "code",
      "execution_count": null,
      "metadata": {
        "colab": {
          "base_uri": "https://localhost:8080/",
          "height": 368
        },
        "id": "VMaiarf1pW6e",
        "outputId": "318c04be-f437-4a03-c555-74fff3cd6bdd"
      },
      "outputs": [
        {
          "ename": "FileNotFoundError",
          "evalue": "ignored",
          "output_type": "error",
          "traceback": [
            "\u001b[0;31m---------------------------------------------------------------------------\u001b[0m",
            "\u001b[0;31mFileNotFoundError\u001b[0m                         Traceback (most recent call last)",
            "\u001b[0;32m<ipython-input-4-bb2bab64afba>\u001b[0m in \u001b[0;36m<module>\u001b[0;34m\u001b[0m\n\u001b[0;32m----> 1\u001b[0;31m \u001b[0mdata_check\u001b[0m \u001b[0;34m=\u001b[0m \u001b[0mpd\u001b[0m\u001b[0;34m.\u001b[0m\u001b[0mread_csv\u001b[0m\u001b[0;34m(\u001b[0m\u001b[0;34m\"./HAM10000_metadata.csv\"\u001b[0m\u001b[0;34m)\u001b[0m\u001b[0;34m\u001b[0m\u001b[0;34m\u001b[0m\u001b[0m\n\u001b[0m\u001b[1;32m      2\u001b[0m \u001b[0mdata_check\u001b[0m\u001b[0;34m.\u001b[0m\u001b[0mhead\u001b[0m\u001b[0;34m(\u001b[0m\u001b[0;34m)\u001b[0m\u001b[0;34m\u001b[0m\u001b[0;34m\u001b[0m\u001b[0m\n",
            "\u001b[0;32m/usr/local/lib/python3.7/dist-packages/pandas/util/_decorators.py\u001b[0m in \u001b[0;36mwrapper\u001b[0;34m(*args, **kwargs)\u001b[0m\n\u001b[1;32m    309\u001b[0m                     \u001b[0mstacklevel\u001b[0m\u001b[0;34m=\u001b[0m\u001b[0mstacklevel\u001b[0m\u001b[0;34m,\u001b[0m\u001b[0;34m\u001b[0m\u001b[0;34m\u001b[0m\u001b[0m\n\u001b[1;32m    310\u001b[0m                 )\n\u001b[0;32m--> 311\u001b[0;31m             \u001b[0;32mreturn\u001b[0m \u001b[0mfunc\u001b[0m\u001b[0;34m(\u001b[0m\u001b[0;34m*\u001b[0m\u001b[0margs\u001b[0m\u001b[0;34m,\u001b[0m \u001b[0;34m**\u001b[0m\u001b[0mkwargs\u001b[0m\u001b[0;34m)\u001b[0m\u001b[0;34m\u001b[0m\u001b[0;34m\u001b[0m\u001b[0m\n\u001b[0m\u001b[1;32m    312\u001b[0m \u001b[0;34m\u001b[0m\u001b[0m\n\u001b[1;32m    313\u001b[0m         \u001b[0;32mreturn\u001b[0m \u001b[0mwrapper\u001b[0m\u001b[0;34m\u001b[0m\u001b[0;34m\u001b[0m\u001b[0m\n",
            "\u001b[0;32m/usr/local/lib/python3.7/dist-packages/pandas/io/parsers/readers.py\u001b[0m in \u001b[0;36mread_csv\u001b[0;34m(filepath_or_buffer, sep, delimiter, header, names, index_col, usecols, squeeze, prefix, mangle_dupe_cols, dtype, engine, converters, true_values, false_values, skipinitialspace, skiprows, skipfooter, nrows, na_values, keep_default_na, na_filter, verbose, skip_blank_lines, parse_dates, infer_datetime_format, keep_date_col, date_parser, dayfirst, cache_dates, iterator, chunksize, compression, thousands, decimal, lineterminator, quotechar, quoting, doublequote, escapechar, comment, encoding, encoding_errors, dialect, error_bad_lines, warn_bad_lines, on_bad_lines, delim_whitespace, low_memory, memory_map, float_precision, storage_options)\u001b[0m\n\u001b[1;32m    584\u001b[0m     \u001b[0mkwds\u001b[0m\u001b[0;34m.\u001b[0m\u001b[0mupdate\u001b[0m\u001b[0;34m(\u001b[0m\u001b[0mkwds_defaults\u001b[0m\u001b[0;34m)\u001b[0m\u001b[0;34m\u001b[0m\u001b[0;34m\u001b[0m\u001b[0m\n\u001b[1;32m    585\u001b[0m \u001b[0;34m\u001b[0m\u001b[0m\n\u001b[0;32m--> 586\u001b[0;31m     \u001b[0;32mreturn\u001b[0m \u001b[0m_read\u001b[0m\u001b[0;34m(\u001b[0m\u001b[0mfilepath_or_buffer\u001b[0m\u001b[0;34m,\u001b[0m \u001b[0mkwds\u001b[0m\u001b[0;34m)\u001b[0m\u001b[0;34m\u001b[0m\u001b[0;34m\u001b[0m\u001b[0m\n\u001b[0m\u001b[1;32m    587\u001b[0m \u001b[0;34m\u001b[0m\u001b[0m\n\u001b[1;32m    588\u001b[0m \u001b[0;34m\u001b[0m\u001b[0m\n",
            "\u001b[0;32m/usr/local/lib/python3.7/dist-packages/pandas/io/parsers/readers.py\u001b[0m in \u001b[0;36m_read\u001b[0;34m(filepath_or_buffer, kwds)\u001b[0m\n\u001b[1;32m    480\u001b[0m \u001b[0;34m\u001b[0m\u001b[0m\n\u001b[1;32m    481\u001b[0m     \u001b[0;31m# Create the parser.\u001b[0m\u001b[0;34m\u001b[0m\u001b[0;34m\u001b[0m\u001b[0;34m\u001b[0m\u001b[0m\n\u001b[0;32m--> 482\u001b[0;31m     \u001b[0mparser\u001b[0m \u001b[0;34m=\u001b[0m \u001b[0mTextFileReader\u001b[0m\u001b[0;34m(\u001b[0m\u001b[0mfilepath_or_buffer\u001b[0m\u001b[0;34m,\u001b[0m \u001b[0;34m**\u001b[0m\u001b[0mkwds\u001b[0m\u001b[0;34m)\u001b[0m\u001b[0;34m\u001b[0m\u001b[0;34m\u001b[0m\u001b[0m\n\u001b[0m\u001b[1;32m    483\u001b[0m \u001b[0;34m\u001b[0m\u001b[0m\n\u001b[1;32m    484\u001b[0m     \u001b[0;32mif\u001b[0m \u001b[0mchunksize\u001b[0m \u001b[0;32mor\u001b[0m \u001b[0miterator\u001b[0m\u001b[0;34m:\u001b[0m\u001b[0;34m\u001b[0m\u001b[0;34m\u001b[0m\u001b[0m\n",
            "\u001b[0;32m/usr/local/lib/python3.7/dist-packages/pandas/io/parsers/readers.py\u001b[0m in \u001b[0;36m__init__\u001b[0;34m(self, f, engine, **kwds)\u001b[0m\n\u001b[1;32m    809\u001b[0m             \u001b[0mself\u001b[0m\u001b[0;34m.\u001b[0m\u001b[0moptions\u001b[0m\u001b[0;34m[\u001b[0m\u001b[0;34m\"has_index_names\"\u001b[0m\u001b[0;34m]\u001b[0m \u001b[0;34m=\u001b[0m \u001b[0mkwds\u001b[0m\u001b[0;34m[\u001b[0m\u001b[0;34m\"has_index_names\"\u001b[0m\u001b[0;34m]\u001b[0m\u001b[0;34m\u001b[0m\u001b[0;34m\u001b[0m\u001b[0m\n\u001b[1;32m    810\u001b[0m \u001b[0;34m\u001b[0m\u001b[0m\n\u001b[0;32m--> 811\u001b[0;31m         \u001b[0mself\u001b[0m\u001b[0;34m.\u001b[0m\u001b[0m_engine\u001b[0m \u001b[0;34m=\u001b[0m \u001b[0mself\u001b[0m\u001b[0;34m.\u001b[0m\u001b[0m_make_engine\u001b[0m\u001b[0;34m(\u001b[0m\u001b[0mself\u001b[0m\u001b[0;34m.\u001b[0m\u001b[0mengine\u001b[0m\u001b[0;34m)\u001b[0m\u001b[0;34m\u001b[0m\u001b[0;34m\u001b[0m\u001b[0m\n\u001b[0m\u001b[1;32m    812\u001b[0m \u001b[0;34m\u001b[0m\u001b[0m\n\u001b[1;32m    813\u001b[0m     \u001b[0;32mdef\u001b[0m \u001b[0mclose\u001b[0m\u001b[0;34m(\u001b[0m\u001b[0mself\u001b[0m\u001b[0;34m)\u001b[0m\u001b[0;34m:\u001b[0m\u001b[0;34m\u001b[0m\u001b[0;34m\u001b[0m\u001b[0m\n",
            "\u001b[0;32m/usr/local/lib/python3.7/dist-packages/pandas/io/parsers/readers.py\u001b[0m in \u001b[0;36m_make_engine\u001b[0;34m(self, engine)\u001b[0m\n\u001b[1;32m   1038\u001b[0m             )\n\u001b[1;32m   1039\u001b[0m         \u001b[0;31m# error: Too many arguments for \"ParserBase\"\u001b[0m\u001b[0;34m\u001b[0m\u001b[0;34m\u001b[0m\u001b[0;34m\u001b[0m\u001b[0m\n\u001b[0;32m-> 1040\u001b[0;31m         \u001b[0;32mreturn\u001b[0m \u001b[0mmapping\u001b[0m\u001b[0;34m[\u001b[0m\u001b[0mengine\u001b[0m\u001b[0;34m]\u001b[0m\u001b[0;34m(\u001b[0m\u001b[0mself\u001b[0m\u001b[0;34m.\u001b[0m\u001b[0mf\u001b[0m\u001b[0;34m,\u001b[0m \u001b[0;34m**\u001b[0m\u001b[0mself\u001b[0m\u001b[0;34m.\u001b[0m\u001b[0moptions\u001b[0m\u001b[0;34m)\u001b[0m  \u001b[0;31m# type: ignore[call-arg]\u001b[0m\u001b[0;34m\u001b[0m\u001b[0;34m\u001b[0m\u001b[0m\n\u001b[0m\u001b[1;32m   1041\u001b[0m \u001b[0;34m\u001b[0m\u001b[0m\n\u001b[1;32m   1042\u001b[0m     \u001b[0;32mdef\u001b[0m \u001b[0m_failover_to_python\u001b[0m\u001b[0;34m(\u001b[0m\u001b[0mself\u001b[0m\u001b[0;34m)\u001b[0m\u001b[0;34m:\u001b[0m\u001b[0;34m\u001b[0m\u001b[0;34m\u001b[0m\u001b[0m\n",
            "\u001b[0;32m/usr/local/lib/python3.7/dist-packages/pandas/io/parsers/c_parser_wrapper.py\u001b[0m in \u001b[0;36m__init__\u001b[0;34m(self, src, **kwds)\u001b[0m\n\u001b[1;32m     49\u001b[0m \u001b[0;34m\u001b[0m\u001b[0m\n\u001b[1;32m     50\u001b[0m         \u001b[0;31m# open handles\u001b[0m\u001b[0;34m\u001b[0m\u001b[0;34m\u001b[0m\u001b[0;34m\u001b[0m\u001b[0m\n\u001b[0;32m---> 51\u001b[0;31m         \u001b[0mself\u001b[0m\u001b[0;34m.\u001b[0m\u001b[0m_open_handles\u001b[0m\u001b[0;34m(\u001b[0m\u001b[0msrc\u001b[0m\u001b[0;34m,\u001b[0m \u001b[0mkwds\u001b[0m\u001b[0;34m)\u001b[0m\u001b[0;34m\u001b[0m\u001b[0;34m\u001b[0m\u001b[0m\n\u001b[0m\u001b[1;32m     52\u001b[0m         \u001b[0;32massert\u001b[0m \u001b[0mself\u001b[0m\u001b[0;34m.\u001b[0m\u001b[0mhandles\u001b[0m \u001b[0;32mis\u001b[0m \u001b[0;32mnot\u001b[0m \u001b[0;32mNone\u001b[0m\u001b[0;34m\u001b[0m\u001b[0;34m\u001b[0m\u001b[0m\n\u001b[1;32m     53\u001b[0m \u001b[0;34m\u001b[0m\u001b[0m\n",
            "\u001b[0;32m/usr/local/lib/python3.7/dist-packages/pandas/io/parsers/base_parser.py\u001b[0m in \u001b[0;36m_open_handles\u001b[0;34m(self, src, kwds)\u001b[0m\n\u001b[1;32m    227\u001b[0m             \u001b[0mmemory_map\u001b[0m\u001b[0;34m=\u001b[0m\u001b[0mkwds\u001b[0m\u001b[0;34m.\u001b[0m\u001b[0mget\u001b[0m\u001b[0;34m(\u001b[0m\u001b[0;34m\"memory_map\"\u001b[0m\u001b[0;34m,\u001b[0m \u001b[0;32mFalse\u001b[0m\u001b[0;34m)\u001b[0m\u001b[0;34m,\u001b[0m\u001b[0;34m\u001b[0m\u001b[0;34m\u001b[0m\u001b[0m\n\u001b[1;32m    228\u001b[0m             \u001b[0mstorage_options\u001b[0m\u001b[0;34m=\u001b[0m\u001b[0mkwds\u001b[0m\u001b[0;34m.\u001b[0m\u001b[0mget\u001b[0m\u001b[0;34m(\u001b[0m\u001b[0;34m\"storage_options\"\u001b[0m\u001b[0;34m,\u001b[0m \u001b[0;32mNone\u001b[0m\u001b[0;34m)\u001b[0m\u001b[0;34m,\u001b[0m\u001b[0;34m\u001b[0m\u001b[0;34m\u001b[0m\u001b[0m\n\u001b[0;32m--> 229\u001b[0;31m             \u001b[0merrors\u001b[0m\u001b[0;34m=\u001b[0m\u001b[0mkwds\u001b[0m\u001b[0;34m.\u001b[0m\u001b[0mget\u001b[0m\u001b[0;34m(\u001b[0m\u001b[0;34m\"encoding_errors\"\u001b[0m\u001b[0;34m,\u001b[0m \u001b[0;34m\"strict\"\u001b[0m\u001b[0;34m)\u001b[0m\u001b[0;34m,\u001b[0m\u001b[0;34m\u001b[0m\u001b[0;34m\u001b[0m\u001b[0m\n\u001b[0m\u001b[1;32m    230\u001b[0m         )\n\u001b[1;32m    231\u001b[0m \u001b[0;34m\u001b[0m\u001b[0m\n",
            "\u001b[0;32m/usr/local/lib/python3.7/dist-packages/pandas/io/common.py\u001b[0m in \u001b[0;36mget_handle\u001b[0;34m(path_or_buf, mode, encoding, compression, memory_map, is_text, errors, storage_options)\u001b[0m\n\u001b[1;32m    705\u001b[0m                 \u001b[0mencoding\u001b[0m\u001b[0;34m=\u001b[0m\u001b[0mioargs\u001b[0m\u001b[0;34m.\u001b[0m\u001b[0mencoding\u001b[0m\u001b[0;34m,\u001b[0m\u001b[0;34m\u001b[0m\u001b[0;34m\u001b[0m\u001b[0m\n\u001b[1;32m    706\u001b[0m                 \u001b[0merrors\u001b[0m\u001b[0;34m=\u001b[0m\u001b[0merrors\u001b[0m\u001b[0;34m,\u001b[0m\u001b[0;34m\u001b[0m\u001b[0;34m\u001b[0m\u001b[0m\n\u001b[0;32m--> 707\u001b[0;31m                 \u001b[0mnewline\u001b[0m\u001b[0;34m=\u001b[0m\u001b[0;34m\"\"\u001b[0m\u001b[0;34m,\u001b[0m\u001b[0;34m\u001b[0m\u001b[0;34m\u001b[0m\u001b[0m\n\u001b[0m\u001b[1;32m    708\u001b[0m             )\n\u001b[1;32m    709\u001b[0m         \u001b[0;32melse\u001b[0m\u001b[0;34m:\u001b[0m\u001b[0;34m\u001b[0m\u001b[0;34m\u001b[0m\u001b[0m\n",
            "\u001b[0;31mFileNotFoundError\u001b[0m: [Errno 2] No such file or directory: './HAM10000_metadata.csv'"
          ]
        }
      ],
      "source": [
        "data_check = pd.read_csv(\"./HAM10000_metadata.csv\")\n",
        "data_check.head()"
      ]
    },
    {
      "cell_type": "code",
      "execution_count": null,
      "metadata": {
        "colab": {
          "base_uri": "https://localhost:8080/"
        },
        "id": "wmjv1bExqE1c",
        "outputId": "9b3d6434-91ec-423c-f81d-2096b7235d32"
      },
      "outputs": [
        {
          "data": {
            "text/plain": [
              "(['akiec', 'bcc', 'bkl', 'df', 'nv', 'vasc', 'mel'],\n",
              " ['Actinic keratoses',\n",
              "  ' basal cell carcinoma',\n",
              "  'benign keratosis-like lesions',\n",
              "  'dermatofibroma',\n",
              "  ' melanocytic nevi',\n",
              "  ' pyogenic granulomas and hemorrhage',\n",
              "  'melanoma'])"
            ]
          },
          "execution_count": 10,
          "metadata": {},
          "output_type": "execute_result"
        }
      ],
      "source": [
        "data = pd.read_csv('./hmnist_28_28_RGB.csv')\n",
        "data.head()\n",
        "classes = {0: ('akiec', 'Actinic keratoses'),  \n",
        "           1:('bcc' , ' basal cell carcinoma'), \n",
        "           2:('bkl', 'benign keratosis-like lesions'), \n",
        "           3: ('df', 'dermatofibroma'),\n",
        "           4: ('nv', ' melanocytic nevi'), \n",
        "           5: ('vasc', ' pyogenic granulomas and hemorrhage'), \n",
        "           6: ('mel', 'melanoma'),\n",
        "           }\n",
        "CLASSES = [classes[idx][0] for idx in range(len(classes))] # abbreviated form of classes\n",
        "CLASSES_FULL = [classes[idx][1] for idx in range(len(classes))] # Full name of classes\n",
        "CLASSES, CLASSES_FULL"
      ]
    },
    {
      "cell_type": "code",
      "execution_count": null,
      "metadata": {
        "colab": {
          "base_uri": "https://localhost:8080/",
          "height": 847
        },
        "id": "ju0rkQaq6qmP",
        "outputId": "e8ae8cc8-d0e6-4ba8-d76c-20b1d80ad2a0"
      },
      "outputs": [
        {
          "data": {
            "image/png": "[encoded data removed]",
            "text/plain": [
              "<Figure size 1024x1024 with 1 Axes>"
            ]
          },
          "metadata": {},
          "output_type": "display_data"
        }
      ],
      "source": [
        "sample_images = []\n",
        "N = len(CLASSES) # number of samples per class\n",
        "for class_ in classes.keys():\n",
        "    image_idxs = data.label==class_\n",
        "    N_ = len(data[image_idxs])\n",
        "    chosen = random.sample(list(np.arange(N_)), k= N) # creating random 7 samples per class\n",
        "    images = np.asarray(data[image_idxs].iloc[chosen,:-1])# grabing those random 7 samples\n",
        "    \n",
        "    for img in images:\n",
        "        sample_images.append(torch.tensor(img.reshape(28,28,3)).permute(2,0,1)) # obtaining one image at a time \n",
        "        \n",
        "s = torch.stack(sample_images) # stack all images, convert to torch.tensor for grid\n",
        "grid = torchvision.utils.make_grid(s, nrow=N, ncol=N) # create grid with same rows and cols\n",
        "\n",
        "plt.figure(figsize=(8,8), dpi=(128)) # plot the grid\n",
        "plt.imshow(grid.permute(1,2,0))\n",
        "plt.xticks(np.linspace(14,grid.shape[2]-14,7), labels=[f'sample {idx}' for idx in range(N)])\n",
        "plt.yticks(np.linspace(14,grid.shape[1]-14,7), labels=[f'[{idx}] {cls_}' for idx, cls_ in enumerate(CLASSES_FULL)])\n",
        "plt.title('Sample of skin lesions in HAM10000')\n",
        "plt.legend(CLASSES_FULL)\n",
        "plt.show(block='off')"
      ]
    },
    {
      "cell_type": "code",
      "execution_count": null,
      "metadata": {
        "id": "CcH6jMTjMDhZ"
      },
      "outputs": [],
      "source": [
        "lr = 0.001\n",
        "bs = 256 # On P100, 512 is okay for resnet32 and resnet50, bs 256 is okay for densenet121 and densenet201\n",
        "EPOCHS = 40 # number of training epochs in total\n",
        "FT_EPOCHS = 5 # first epochs to fine tune classifier head only, after that end to end finetuning begins\n",
        "LR_MIN = 1e-6 # minimum learning rate, below that, early training stopping occurs\n",
        "\n",
        "highest_acc = 0.80 # Manually set for now\n",
        "\n",
        "# Choose CNN backbone\n",
        "CNNS = ['resnet34', 'resnet50', 'densenet121', 'densenet201']\n",
        "CHOSEN_MODEL = CNNS[2] # desnenet121 performs best\n",
        "\n",
        "# Flags\n",
        "SAVE_CHECKPOINT = True\n",
        "SAVE_HIGHEST = True"
      ]
    },
    {
      "cell_type": "code",
      "execution_count": null,
      "metadata": {
        "colab": {
          "base_uri": "https://localhost:8080/",
          "height": 432
        },
        "id": "NUICvjVJMS1i",
        "outputId": "95ff2c23-5871-4993-b6fd-45bbde840f5e"
      },
      "outputs": [
        {
          "name": "stderr",
          "output_type": "stream",
          "text": [
            "/usr/local/lib/python3.7/dist-packages/IPython/core/interactiveshell.py:3249: PerformanceWarning: DataFrame is highly fragmented.  This is usually the result of calling `frame.insert` many times, which has poor performance.  Consider joining all columns at once using pd.concat(axis=1) instead.  To get a de-fragmented frame, use `newframe = frame.copy()`\n",
            "  if (await self.run_code(code, result,  async_=asy)):\n"
          ]
        },
        {
          "data": {
            "image/png": "[encoded data removed]",
            "text/plain": [
              "<Figure size 1440x384 with 3 Axes>"
            ]
          },
          "metadata": {},
          "output_type": "display_data"
        }
      ],
      "source": [
        "import matplotlib.pyplot as plt\n",
        "\n",
        "fig, ax = plt.subplots(1,3, figsize=(15,4), dpi=(96), sharex=True, sharey=True)\n",
        "\n",
        "# Original dataset\n",
        "x = data.drop(labels='label', axis=1) # drop the label column\n",
        "y = data.label # get the label\n",
        "# Plotting count\n",
        "sns.countplot(x=data['label'], ax=ax[0])\n",
        "ax[0].set(xlabel='classes', ylabel='counts')\n",
        "ax[0].title.set_text('HAM10000 MNIST Skin Lesion Class Counts')\n",
        "\n",
        "\n",
        "# Split original dataframe to training and testing\n",
        "x_train, x_test, y_train, y_test = train_test_split(x, y, test_size=0.20, random_state=42)\n",
        "\n",
        "# Plot number of samples in train split\n",
        "x_train_ = x_train.copy()\n",
        "x_train_.insert(0, 'label', value=y_train.values)\n",
        "train_df_ = x_train_\n",
        "sns.countplot(x=train_df_['label'], ax=ax[1])\n",
        "ax[1].title.set_text('Training Dataset Class Counts')\n",
        "\n",
        "# Create over sampler, and over sample ONLY the TRAIN dataframe\n",
        "oversampler = ROS()\n",
        "x_train, y_train = oversampler.fit_resample(x_train, y_train)\n",
        "\n",
        "# Combine train image and label dataframe as one dataframe because my dataset requires it\n",
        "x_train.insert(0, 'label', value=y_train.values)\n",
        "train_df = x_train\n",
        "\n",
        "# Combine test image and label dataframe as one dataframe because my dataset requires it\n",
        "x_test.insert(0, 'label', value=y_test.values)\n",
        "test_df = x_test\n",
        "\n",
        "# Print number of samples in each train/test splits\n",
        "len(train_df), len(test_df)\n",
        "\n",
        "# Plot number of samples in train split (thats oversampled); all classes should have same number of counts\n",
        "sns.countplot(x=train_df['label'], ax=ax[2])\n",
        "ax[2].title.set_text('...and after ROS')\n",
        "plt.show(block='off')"
      ]
    },
    {
      "cell_type": "code",
      "execution_count": null,
      "metadata": {
        "id": "XyANPRdZNGnv"
      },
      "outputs": [],
      "source": [
        "class HAM10KDS(Dataset): # custom dataset\n",
        "    def __init__(self, df, transforms=None, selective=True, OR=4, normalised=True):\n",
        "        self.data = df # the dataframe containing the image\n",
        "        self.y = self.data.label # label y\n",
        "        self.x = self.data.drop(labels='label', axis=1) # drop the label, get images\n",
        "        \n",
        "        # Reshape the entire image array into N x height x width x RGB channel. N = number of samples\n",
        "        self.x = np.asarray(self.x).reshape(-1, 28, 28,3)\n",
        "        \n",
        "        # Calculate the RGB stats for normalisation, and convert to tensor.\n",
        "        self.mean = torch.tensor([np.mean(self.x[:, :, :, channel]) for channel in range(3)]).reshape(1, 3, 1, 1) \n",
        "        self.std = torch.tensor([np.std(self.x[:, :, :, channel]) for channel in range(3)]).reshape(1, 3, 1, 1)  \n",
        "        \n",
        "        # Convert images to torch tensor for transforms and training on GPU. Images will be moved to GPU outside dataloader.\n",
        "        self.x = torch.tensor(self.x, dtype=torch.float32).permute(0, 3, 1, 2)\n",
        "        \n",
        "        # Normalise the images with the stats calculated\n",
        "        if normalised==True:\n",
        "            self.x -= self.mean\n",
        "            self.x /= self.std\n",
        "        print('images are normalised')\n",
        "        \n",
        "        self.resize = T.Resize((28*4, 28*4)) # Increase images by 4 in both dimension.\n",
        "\n",
        "        self.OR = OR # the label of the over represented class\n",
        "        self.tf = transforms # the input list of transforms\n",
        "        self.selective = selective # flag to apply transform to under rep classes only\n",
        "        \n",
        "    def __len__(self):\n",
        "        return len(self.data) # number of samples in dataset\n",
        "    \n",
        "    def __getitem__(self,idx):\n",
        "        label = torch.tensor(self.y.iloc[idx]) # get label of image and convert to torch tensor\n",
        "        \n",
        "        img = self.x[idx] # get the image from the big tensor\n",
        "        img = self.resize(img) # upsize the image\n",
        "        \n",
        "        # Applying transforms\n",
        "        if self.tf!=None:\n",
        "            if self.selective==True: # Can choose to NOT apply augmentation on over rep classes\n",
        "                if label.item()!=self.OR: \n",
        "                    img = self.tf(img)\n",
        "            else: # Or just apply aug to ALL classes and samples\n",
        "                img = self.tf(img)\n",
        "                                \n",
        "        return img, label\n",
        "        "
      ]
    },
    {
      "cell_type": "code",
      "execution_count": null,
      "metadata": {
        "id": "g7xoe3hwMebh"
      },
      "outputs": [],
      "source": [
        "class CNN(nn.Module): # custom CNN model\n",
        "    \n",
        "    def __init__(self, num_classes, model='resnet50'):\n",
        "        super(CNN, self).__init__()\n",
        "        \n",
        "        self.num_classes = num_classes\n",
        "        print(f'There are {self.num_classes} classes.')\n",
        "        \n",
        "        self.chosen_model = model\n",
        "        \n",
        "        \n",
        "        # Choosing backbone CNN\n",
        "        \n",
        "        if self.chosen_model=='resnet34':\n",
        "            \n",
        "            self.model = models.resnet34(pretrained=True)\n",
        "            \n",
        "            self.classifier = nn.Sequential(\n",
        "                nn.Dropout(p=0.1), # regularisation\n",
        "                \n",
        "                # Common practise to set nn.Linear with no bias if using batchnorm after it.\n",
        "                # As batchnorm normalises activitations from nn.Linear, it also removes the bias from nn.Linear,\n",
        "                # and it adds its own bias term. Thus, nn.Linear bias term is redundant.\n",
        "                \n",
        "                nn.Linear(self.model.fc.in_features, 256, bias=False), \n",
        "                nn.ReLU(),\n",
        "                nn.BatchNorm1d(256),\n",
        "\n",
        "                nn.Linear(256, 128, bias=False),\n",
        "                nn.ReLU(),\n",
        "                nn.BatchNorm1d(128),\n",
        "\n",
        "                nn.Linear(128, self.num_classes, bias=False),\n",
        "                nn.BatchNorm1d(self.num_classes), \n",
        "            )\n",
        "            self.model.fc = self.classifier\n",
        "            \n",
        "        elif self.chosen_model=='densenet121':\n",
        "            \n",
        "            self.model = models.densenet121(pretrained=True)\n",
        "            \n",
        "            self.classifier = nn.Sequential(\n",
        "                nn.Dropout(p=0.1), # regularisation\n",
        "                \n",
        "                # Common practise to set nn.Linear with no bias if using batchnorm after it.\n",
        "                # As batchnorm normalises activitations from nn.Linear, it also removes the bias from nn.Linear,\n",
        "                # and it adds its own bias term. Thus, nn.Linear bias term is redundant.\n",
        "                \n",
        "                nn.Linear(self.model.classifier.in_features, 256, bias=False), \n",
        "                nn.ReLU(),\n",
        "                nn.BatchNorm1d(256),\n",
        "\n",
        "                nn.Linear(256, 128, bias=False),\n",
        "                nn.ReLU(),\n",
        "                nn.BatchNorm1d(128),\n",
        "\n",
        "                nn.Linear(128, self.num_classes, bias=False),\n",
        "                nn.BatchNorm1d(self.num_classes), \n",
        "            )\n",
        "            \n",
        "            self.model.classifier = self.classifier\n",
        "            \n",
        "        print(f'{self.chosen_model} created')\n",
        "        \n",
        "        model_parameters = filter(lambda p: p.requires_grad, self.model.parameters())\n",
        "        params = sum([np.prod(p.size()) for p in model_parameters])\n",
        "        print(f'Model has {params} trainable params.')\n",
        "\n",
        "    def forward(self, x):\n",
        "        \n",
        "        return self.model(x)"
      ]
    },
    {
      "cell_type": "code",
      "execution_count": null,
      "metadata": {
        "colab": {
          "base_uri": "https://localhost:8080/",
          "height": 275,
          "referenced_widgets": [
            "66dca930c699434db23ab0b8e5580c99",
            "0225d14451904c6797592e732af03e22",
            "a047d09a38004adcaaff5ef185546884",
            "2edf827f97f3400cb38e609f184a765b",
            "030a0e5d60124d94ad31a129862e70db",
            "e72d9d8bb9ae43d1bee4b0124c4db5e7",
            "e0526b4379e14661b3e9c34d13f4b6e6",
            "83eee5824d2948f58921ea4f054b0e6e",
            "4ee9bc634b8248bea796870765451418",
            "1487880a70bc40989ae2f5d46e3f7dcf",
            "c585f037025d423abee3c3c5e0f36725"
          ]
        },
        "id": "G1wg9OXuMegb",
        "outputId": "6f63bdd4-3b67-4362-9f58-2e8ed35a992a"
      },
      "outputs": [
        {
          "name": "stdout",
          "output_type": "stream",
          "text": [
            "images are normalised\n",
            "images are normalised\n",
            "There are  37569  training samples,  2003  testing samples.\n",
            "There are 7 classes.\n"
          ]
        },
        {
          "name": "stderr",
          "output_type": "stream",
          "text": [
            "/usr/local/lib/python3.7/dist-packages/torchvision/models/_utils.py:209: UserWarning: The parameter 'pretrained' is deprecated since 0.13 and will be removed in 0.15, please use 'weights' instead.\n",
            "  f\"The parameter '{pretrained_param}' is deprecated since 0.13 and will be removed in 0.15, \"\n",
            "/usr/local/lib/python3.7/dist-packages/torchvision/models/_utils.py:223: UserWarning: Arguments other than a weight enum or `None` for 'weights' are deprecated since 0.13 and will be removed in 0.15. The current behavior is equivalent to passing `weights=DenseNet121_Weights.IMAGENET1K_V1`. You can also use `weights=DenseNet121_Weights.DEFAULT` to get the most up-to-date weights.\n",
            "  warnings.warn(msg)\n",
            "Downloading: \"https://download.pytorch.org/models/densenet121-a639ec97.pth\" to /root/.cache/torch/hub/checkpoints/densenet121-a639ec97.pth\n"
          ]
        },
        {
          "data": {
            "application/vnd.jupyter.widget-view+json": {
              "model_id": "66dca930c699434db23ab0b8e5580c99",
              "version_major": 2,
              "version_minor": 0
            },
            "text/plain": [
              "  0%|          | 0.00/30.8M [00:00<?, ?B/s]"
            ]
          },
          "metadata": {},
          "output_type": "display_data"
        },
        {
          "name": "stdout",
          "output_type": "stream",
          "text": [
            "densenet121 created\n",
            "Model has 7250446 trainable params.\n"
          ]
        }
      ],
      "source": [
        "# Image augmentation only for training\n",
        "tf = T.Compose([\n",
        "    T.RandomHorizontalFlip(p=0.5),\n",
        "    T.RandomVerticalFlip(p=0.5),\n",
        "    T.RandomAffine(degrees=15, \n",
        "                   translate=(0.1, 0.1), \n",
        "                   scale=(0.9,1.0), \n",
        "                   shear=(10))\n",
        "                   \n",
        "])\n",
        "\n",
        "# Create dataset and dataloader for train and test\n",
        "train_ds = HAM10KDS(train_df, tf, selective=False)\n",
        "train_dl = DataLoader(train_ds, batch_size=bs, shuffle=True, pin_memory=True, num_workers=2)\n",
        "\n",
        "test_ds = HAM10KDS(test_df)\n",
        "test_dl = DataLoader(test_ds, batch_size=bs, shuffle=False, pin_memory=True, num_workers=2)\n",
        "\n",
        "print('There are ', len(train_ds),' training samples, ', len(test_ds), ' testing samples.')\n",
        "\n",
        "# Create model with chosen CNN backbone\n",
        "model = CNN(len(CLASSES), model=CHOSEN_MODEL).to(DEVICE)\n",
        "\n",
        "# Freezing pretrained CNN backbone for classifier head fine tuning\n",
        "for p in model.parameters():\n",
        "    p.requires_grad=False\n",
        "    \n",
        "for p in model.classifier.parameters():\n",
        "    p.requires_grad=True\n",
        "\n",
        "# Optimizer\n",
        "optimizer = optim.AdamW(model.parameters(), lr=lr, weight_decay=0.1)\n",
        "\n",
        "# Weights for weighted cross entropy loss\n",
        "#class_weights = torch.tensor([1.0, 1.0, 1.0, 1.0, 1.0, 1.0, 2.0]).to(DEVICE)\n",
        "#criterion = nn.CrossEntropyLoss(weight=class_weights) # multi class cross enropty loss with softmax built in\n",
        "\n",
        "# Loss function. Have one for train and test/eval just in case train loss is different.\n",
        "criterion = nn.CrossEntropyLoss()\n",
        "eval_criterion = nn.CrossEntropyLoss()\n",
        "\n",
        "# Reduce lr to 10 percent if test accuracy doesnt improve by 1%\n",
        "scheduler = torch.optim.lr_scheduler.ReduceLROnPlateau(optimizer, mode='max', factor=0.1, patience=3, threshold=0.0001, threshold_mode='rel', \n",
        "                                                       cooldown=0, min_lr=0, eps=1e-08, verbose=True) "
      ]
    },
    {
      "cell_type": "code",
      "execution_count": null,
      "metadata": {
        "id": "tjTBHU1wMlEg"
      },
      "outputs": [],
      "source": [
        "# Test run to check if forward pass works\n",
        "# test_i = torch.randn((1,3,28*2,28*2), dtype=torch.float32).to(DEVICE)\n",
        "# out = model(test_i)"
      ]
    },
    {
      "cell_type": "code",
      "execution_count": null,
      "metadata": {
        "colab": {
          "base_uri": "https://localhost:8080/"
        },
        "id": "ZfQHjNbcNQ0T",
        "outputId": "a03de6c5-b8b4-4fd0-a6b8-5d36599fab4b"
      },
      "outputs": [
        {
          "name": "stdout",
          "output_type": "stream",
          "text": [
            "Highest acc to beat: 0.8\n"
          ]
        },
        {
          "name": "stderr",
          "output_type": "stream",
          "text": [
            "TRAIN | epoch 1/40 | acc 0.4793 | loss 1.2183: 100%|██████████| 147/147 [01:13<00:00,  2.00it/s]\n",
            "TEST | epoch 1/40 | acc 0.3834 | loss 1.5953: 100%|██████████| 8/8 [00:02<00:00,  3.86it/s]\n",
            "/usr/local/lib/python3.7/dist-packages/ipykernel_launcher.py:100: UserWarning: To copy construct from a tensor, it is recommended to use sourceTensor.clone().detach() or sourceTensor.clone().detach().requires_grad_(True), rather than torch.tensor(sourceTensor).\n",
            "TRAIN | epoch 2/40 | acc 0.6394 | loss 1.0126: 100%|██████████| 147/147 [01:03<00:00,  2.31it/s]\n",
            "TEST | epoch 2/40 | acc 0.4428 | loss 1.4234: 100%|██████████| 8/8 [00:02<00:00,  3.85it/s]\n",
            "TRAIN | epoch 3/40 | acc 0.6791 | loss 0.9534: 100%|██████████| 147/147 [01:09<00:00,  2.12it/s]\n",
            "TEST | epoch 3/40 | acc 0.4873 | loss 1.3525: 100%|██████████| 8/8 [00:02<00:00,  3.83it/s]\n",
            "TRAIN | epoch 4/40 | acc 0.7019 | loss 0.8113: 100%|██████████| 147/147 [01:07<00:00,  2.18it/s]\n",
            "TEST | epoch 4/40 | acc 0.5062 | loss 1.2850: 100%|██████████| 8/8 [00:02<00:00,  3.76it/s]\n",
            "TRAIN | epoch 5/40 | acc 0.7159 | loss 0.7953: 100%|██████████| 147/147 [01:04<00:00,  2.27it/s]\n",
            "TEST | epoch 5/40 | acc 0.5562 | loss 1.1592: 100%|██████████| 8/8 [00:02<00:00,  3.73it/s]\n",
            "  0%|          | 0/147 [00:00<?, ?it/s]"
          ]
        },
        {
          "name": "stdout",
          "output_type": "stream",
          "text": [
            "End to End Fine Tuning Begins\n"
          ]
        },
        {
          "name": "stderr",
          "output_type": "stream",
          "text": [
            "TRAIN | epoch 6/40 | acc 0.8263 | loss 0.3571: 100%|██████████| 147/147 [01:49<00:00,  1.34it/s]\n",
            "TEST | epoch 6/40 | acc 0.6990 | loss 0.8295: 100%|██████████| 8/8 [00:02<00:00,  3.68it/s]\n",
            "TRAIN | epoch 7/40 | acc 0.9067 | loss 0.2666: 100%|██████████| 147/147 [01:49<00:00,  1.34it/s]\n",
            "TEST | epoch 7/40 | acc 0.7309 | loss 0.7221: 100%|██████████| 8/8 [00:02<00:00,  3.66it/s]\n"
          ]
        },
        {
          "name": "stdout",
          "output_type": "stream",
          "text": [
            "Checkpointed with 0.7309 best acc\n"
          ]
        },
        {
          "name": "stderr",
          "output_type": "stream",
          "text": [
            "TRAIN | epoch 8/40 | acc 0.9293 | loss 0.3157: 100%|██████████| 147/147 [01:49<00:00,  1.34it/s]\n",
            "TEST | epoch 8/40 | acc 0.7678 | loss 0.6187: 100%|██████████| 8/8 [00:02<00:00,  3.66it/s]\n"
          ]
        },
        {
          "name": "stdout",
          "output_type": "stream",
          "text": [
            "Checkpointed with 0.7678 best acc\n"
          ]
        },
        {
          "name": "stderr",
          "output_type": "stream",
          "text": [
            "TRAIN | epoch 9/40 | acc 0.9436 | loss 0.1715: 100%|██████████| 147/147 [01:49<00:00,  1.34it/s]\n",
            "TEST | epoch 9/40 | acc 0.7339 | loss 0.7953: 100%|██████████| 8/8 [00:02<00:00,  3.64it/s]\n",
            "TRAIN | epoch 10/40 | acc 0.9497 | loss 0.1999: 100%|██████████| 147/147 [01:49<00:00,  1.34it/s]\n",
            "TEST | epoch 10/40 | acc 0.7399 | loss 0.7412: 100%|██████████| 8/8 [00:02<00:00,  3.71it/s]\n",
            "TRAIN | epoch 11/40 | acc 0.9563 | loss 0.1839: 100%|██████████| 147/147 [01:49<00:00,  1.34it/s]\n",
            "TEST | epoch 11/40 | acc 0.7693 | loss 0.6751: 100%|██████████| 8/8 [00:02<00:00,  3.67it/s]\n"
          ]
        },
        {
          "name": "stdout",
          "output_type": "stream",
          "text": [
            "Checkpointed with 0.7693 best acc\n"
          ]
        },
        {
          "name": "stderr",
          "output_type": "stream",
          "text": [
            "TRAIN | epoch 12/40 | acc 0.9603 | loss 0.1607: 100%|██████████| 147/147 [01:49<00:00,  1.34it/s]\n",
            "TEST | epoch 12/40 | acc 0.7414 | loss 0.7130: 100%|██████████| 8/8 [00:02<00:00,  3.62it/s]\n",
            "TRAIN | epoch 13/40 | acc 0.9655 | loss 0.1583: 100%|██████████| 147/147 [01:49<00:00,  1.34it/s]\n",
            "TEST | epoch 13/40 | acc 0.7948 | loss 0.5872: 100%|██████████| 8/8 [00:02<00:00,  3.66it/s]\n"
          ]
        },
        {
          "name": "stdout",
          "output_type": "stream",
          "text": [
            "Checkpointed with 0.7948 best acc\n"
          ]
        },
        {
          "name": "stderr",
          "output_type": "stream",
          "text": [
            "TRAIN | epoch 14/40 | acc 0.9647 | loss 0.1402: 100%|██████████| 147/147 [01:52<00:00,  1.30it/s]\n",
            "TEST | epoch 14/40 | acc 0.7678 | loss 0.6654: 100%|██████████| 8/8 [00:02<00:00,  3.67it/s]\n",
            "TRAIN | epoch 15/40 | acc 0.9702 | loss 0.1943: 100%|██████████| 147/147 [01:49<00:00,  1.34it/s]\n",
            "TEST | epoch 15/40 | acc 0.7888 | loss 0.6693: 100%|██████████| 8/8 [00:02<00:00,  3.63it/s]\n",
            "TRAIN | epoch 16/40 | acc 0.9742 | loss 0.0976: 100%|██████████| 147/147 [01:51<00:00,  1.32it/s]\n",
            "TEST | epoch 16/40 | acc 0.7454 | loss 0.7256: 100%|██████████| 8/8 [00:02<00:00,  3.64it/s]\n",
            "TRAIN | epoch 17/40 | acc 0.9704 | loss 0.1005: 100%|██████████| 147/147 [01:51<00:00,  1.32it/s]\n",
            "TEST | epoch 17/40 | acc 0.7703 | loss 0.6780: 100%|██████████| 8/8 [00:02<00:00,  3.61it/s]\n"
          ]
        },
        {
          "name": "stdout",
          "output_type": "stream",
          "text": [
            "Epoch 00017: reducing learning rate of group 0 to 1.0000e-04.\n"
          ]
        },
        {
          "name": "stderr",
          "output_type": "stream",
          "text": [
            "TRAIN | epoch 18/40 | acc 0.9857 | loss 0.0554:  52%|█████▏    | 76/147 [00:59<00:53,  1.32it/s]"
          ]
        }
      ],
      "source": [
        "train_acc = []\n",
        "train_losses = []\n",
        "\n",
        "test_acc = []\n",
        "test_losses = []\n",
        "\n",
        "lrs = []\n",
        "\n",
        "# For warmup\n",
        "lr0 = lr*0.01\n",
        "\n",
        "lr_step = (lr-lr0)/(len(train_dl)-1) # lr step for slow warm up from lr0 to lr \n",
        "\n",
        "print(f'Highest acc to beat: {highest_acc}')\n",
        "best_acc = 0.90*highest_acc # use to decide whether to save a run \n",
        "\n",
        "for epoch in range(EPOCHS):\n",
        "        loader = tqdm(train_dl)\n",
        "        losses = [] # logs avg loss per epoch\n",
        "        accs = [] # logs avg acc per epoch\n",
        "        correct = 0 # counts how many correct predictions\n",
        "        count = 0 # counts how many samples\n",
        "        \n",
        "        if epoch>0:\n",
        "            lrs+= [optimizer.param_groups[0]['lr']]*len(train_dl) # track lr after warm up\n",
        "        \n",
        "        if epoch==FT_EPOCHS:\n",
        "            for p in model.parameters():\n",
        "                p.requires_grad = True\n",
        "            print('End to End Fine Tuning Begins')\n",
        "\n",
        "        model.train()\n",
        "        for bidx, (images, labels) in enumerate(loader):\n",
        "            \n",
        "            # Warm up, slowly increase fomr lr0 to lr in first epoch\n",
        "            if epoch==0:\n",
        "                    \n",
        "                lr_ = lr0 + lr_step*bidx\n",
        "\n",
        "                for op in optimizer.param_groups:\n",
        "                    op['lr'] = lr_\n",
        "\n",
        "                lrs.append(optimizer.param_groups[0]['lr']) # track lr\n",
        "\n",
        "            images = images.to(DEVICE) # move to gpu\n",
        "            labels = labels.to(DEVICE)\n",
        "                \n",
        "            score = model(images)\n",
        "            loss = criterion(score, labels)\n",
        "            \n",
        "            optimizer.zero_grad()\n",
        "            loss.backward()\n",
        "            optimizer.step()\n",
        "            \n",
        "            with torch.no_grad():\n",
        "                pred = torch.argmax(score, -1).detach() # need to detach else bug\n",
        "                correct += (pred==labels).sum() # count how many correct\n",
        "                count += len(labels)\n",
        "                acc = correct/count # accumated accuracy\n",
        "                \n",
        "                losses.append(loss.item())\n",
        "                accs.append(acc)\n",
        "                \n",
        "                loader.set_description(f'TRAIN | epoch {epoch+1}/{EPOCHS} | acc {acc:.4f} | loss {loss.item():.4f}')\n",
        "                \n",
        "        train_acc.append(acc)\n",
        "        train_losses.append(torch.tensor(losses).mean().item())\n",
        "                \n",
        "        model.eval()\n",
        "        with torch.no_grad():\n",
        "            \n",
        "            loader = tqdm(test_dl)\n",
        "            \n",
        "            losses = [] # logs loss per minibatch\n",
        "            accs = [] # logs running acc throughout one epoch\n",
        "            \n",
        "            correct = 0 # counts how many correct predictions in one epoch\n",
        "            count = 0 # counts how many samples seen in one epoch\n",
        "            \n",
        "            for bidx, (images, labels) in enumerate(loader):\n",
        "                images = images.to(DEVICE) # move to gpu\n",
        "                labels = labels.to(DEVICE)\n",
        "\n",
        "                score = model(images)\n",
        "                loss = eval_criterion(score, labels)\n",
        "                \n",
        "                pred = torch.argmax(score, -1).detach() # need to detach else bug\n",
        "                correct += (pred==labels).sum() # count how many correct\n",
        "                count += len(labels)\n",
        "\n",
        "                acc = correct/count # accumated accuracy\n",
        "                loader.set_description(f'TEST | epoch {epoch+1}/{EPOCHS} | acc {acc:.4f} | loss {loss.item():.4f}')\n",
        "                \n",
        "                losses.append(loss.item())\n",
        "                accs.append(acc)\n",
        "\n",
        "        test_acc.append(acc)\n",
        "        test_losses.append(torch.tensor(losses).mean().item())\n",
        "        \n",
        "        scheduler.step(torch.tensor(acc)) # reduce lr if test acc does not improve\n",
        "        \n",
        "        if SAVE_CHECKPOINT==True:\n",
        "            if test_acc[-1]>best_acc:\n",
        "                best_acc = test_acc[-1].item()\n",
        "\n",
        "                checkpoint = {\n",
        "                    'model': model,\n",
        "                    'losses': [train_losses, test_losses],\n",
        "                    'accs': [train_acc, test_acc],\n",
        "                    'lrs': lrs,\n",
        "                    'best_acc': best_acc,\n",
        "                    'last_epoch_trained': epoch,\n",
        "                }\n",
        "                \n",
        "                if best_acc > highest_acc and SAVE_HIGHEST==True:\n",
        "                    old_highest_acc = highest_acc\n",
        "                    highest_acc = best_acc\n",
        "                    torch.save(highest_acc, 'highest_acc.pt')\n",
        "                    print(f'HIGHEST ACCURACY SURPASSED from {old_highest_acc} to {highest_acc}') # save highest achieving model evahhh (yayyy! ^.^)\n",
        "                    torch.save(checkpoint, f'{highest_acc:.4f} checkpoint.pt')\n",
        "\n",
        "                torch.save(checkpoint, 'checkpoint.pt')\n",
        "                print(f'Checkpointed with {best_acc:.4f} best acc')\n",
        "            \n",
        "        if optimizer.param_groups[0]['lr']<LR_MIN:\n",
        "            print(f'EARLY STOPPING! LR below {LR_MIN}')\n",
        "            break"
      ]
    },
    {
      "cell_type": "code",
      "execution_count": null,
      "metadata": {
        "id": "_KIqKQsoNXhN"
      },
      "outputs": [],
      "source": [
        "fig, ax = plt.subplots(1,3, figsize=(18,4), dpi=(96))\n",
        "\n",
        "# Plotting accuracies\n",
        "ax[0].plot(torch.stack(train_acc).cpu())\n",
        "ax[0].plot(torch.stack(test_acc).cpu())\n",
        "ax[0].plot([highest_acc]*(len(train_acc)))\n",
        "ax[0].scatter(torch.argmax(torch.tensor(test_acc)).item(), torch.tensor(test_acc).max().item(), s=128, c='red', marker='*')\n",
        "           \n",
        "ax[0].title.set_text('Accuracy')\n",
        "ax[0].set(xlabel='epochs', ylabel='accuracy')\n",
        "ax[0].legend(['train', 'val', f'highest {highest_acc:.4f}', f'best {best_acc:.4f}'], loc='upper left')\n",
        "\n",
        "# Plotting losses\n",
        "ax[1].plot(train_losses)\n",
        "ax[1].plot(test_losses)\n",
        "ax[1].plot([torch.tensor(test_losses).min()]*len(test_losses))\n",
        "ax[1].scatter(torch.argmin(torch.tensor(test_losses)).item(), torch.tensor(test_losses).min().item(), s=128, c='red', marker='*')\n",
        "\n",
        "\n",
        "ax[1].title.set_text('Loss')\n",
        "ax[1].set(xlabel='epochs', ylabel='loss')\n",
        "ax[1].legend(['train', 'val', f'lowest {torch.tensor(test_losses).min().item():.4f}', f'best {torch.tensor(test_losses).min().item():.4f}'], loc='upper left')\n",
        "\n",
        "# Plot learning rate\n",
        "ax[2].plot(lrs)\n",
        "ax[2].title.set_text('Learning Rate')\n",
        "ax[2].set(xlabel='steps', ylabel='learning rate')\n",
        "\n",
        "plt.show(block='off')"
      ]
    },
    {
      "cell_type": "markdown",
      "metadata": {
        "id": "QDnmDPsBSV-r"
      },
      "source": [
        "2.\n"
      ]
    },
    {
      "cell_type": "code",
      "execution_count": null,
      "metadata": {
        "id": "HAwkFr1uSU_W"
      },
      "outputs": [],
      "source": [
        "data1 = pd.read_csv('./hmnist_28_28_RGB.csv')"
      ]
    },
    {
      "cell_type": "markdown",
      "metadata": {
        "id": "Uah0NlGqTQcd"
      },
      "source": [
        "데이터 분리"
      ]
    },
    {
      "cell_type": "code",
      "execution_count": null,
      "metadata": {
        "id": "zPZW7pvhTD-W"
      },
      "outputs": [],
      "source": [
        "def prepare_for_train_test(X, Y):\n",
        "    # Splitting into train and test set\n",
        "    X_train, X_test, Y_train, Y_test = train_test_split(X, Y, test_size=0.2, random_state=1)\n",
        "    \n",
        "    # Prepare data for training and testing the model\n",
        "    train_datagen = ImageDataGenerator(rescale = 1./255,\n",
        "                                  rotation_range = 10,\n",
        "                                  width_shift_range = 0.2,\n",
        "                                  height_shift_range = 0.2,\n",
        "                                  shear_range = 0.2,\n",
        "                                  horizontal_flip = True,\n",
        "                                  vertical_flip = True,\n",
        "                                  fill_mode = 'nearest')\n",
        "    train_datagen.fit(X_train)\n",
        "    test_datagen = ImageDataGenerator(rescale = 1./255)\n",
        "    test_datagen.fit(X_test)\n",
        "    return X_train, X_test, Y_train, Y_test"
      ]
    },
    {
      "cell_type": "markdown",
      "metadata": {
        "id": "RkHHtLe4TU16"
      },
      "source": [
        "모델"
      ]
    },
    {
      "cell_type": "code",
      "execution_count": null,
      "metadata": {
        "id": "irAb8CNMTMxA"
      },
      "outputs": [],
      "source": [
        "def create_model():\n",
        "    model = Sequential()\n",
        "    model.add(Conv2D(16, kernel_size = (3,3), input_shape = (28, 28, 3), activation = 'relu', padding = 'same'))\n",
        "    model.add(MaxPool2D(pool_size = (2,2)))\n",
        "\n",
        "    model.add(Conv2D(32, kernel_size = (3,3), activation = 'relu', padding = 'same'))\n",
        "    model.add(MaxPool2D(pool_size = (2,2), padding = 'same'))\n",
        "\n",
        "    model.add(Conv2D(64, kernel_size = (3,3), activation = 'relu', padding = 'same'))\n",
        "    model.add(MaxPool2D(pool_size = (2,2), padding = 'same'))\n",
        "    model.add(Conv2D(128, kernel_size = (3,3), activation = 'relu', padding = 'same'))\n",
        "    model.add(MaxPool2D(pool_size = (2,2), padding = 'same'))\n",
        "\n",
        "    model.add(Flatten())\n",
        "    model.add(Dense(64, activation = 'relu'))\n",
        "    model.add(Dense(32, activation='relu'))\n",
        "    model.add(Dense(7, activation='softmax'))\n",
        "\n",
        "    optimizer = tf.keras.optimizers.Adam(learning_rate = 0.001)\n",
        "\n",
        "    model.compile(loss = 'sparse_categorical_crossentropy',\n",
        "                 optimizer = optimizer,\n",
        "                  metrics = ['accuracy'])\n",
        "    print(model.summary())\n",
        "    return model;"
      ]
    },
    {
      "cell_type": "markdown",
      "metadata": {
        "id": "cb_TNEEWTamB"
      },
      "source": [
        "training"
      ]
    },
    {
      "cell_type": "code",
      "execution_count": null,
      "metadata": {
        "id": "xqavDCkxTdxm"
      },
      "outputs": [],
      "source": [
        "def train_model(model, X_train, Y_train, EPOCHS=25):\n",
        "    early_stop = EarlyStopping(monitor='val_loss', patience=10, verbose=1, \n",
        "                           mode='auto')\n",
        "                               #, restore_best_weights=True)\n",
        "    \n",
        "    reduce_lr = ReduceLROnPlateau(monitor='val_loss', factor=0.1, patience=3, \n",
        "                              verbose=1, mode='auto')\n",
        "    \n",
        "    history = model.fit(X_train,\n",
        "                        Y_train,\n",
        "                        validation_split=0.2,\n",
        "                        batch_size = 64,\n",
        "                        epochs = EPOCHS,\n",
        "                        callbacks = [reduce_lr, early_stop])\n",
        "    return history"
      ]
    },
    {
      "cell_type": "markdown",
      "metadata": {
        "id": "DI8UFslhTeed"
      },
      "source": [
        "test model"
      ]
    },
    {
      "cell_type": "code",
      "execution_count": null,
      "metadata": {
        "id": "n6mWfk21TkXS"
      },
      "outputs": [],
      "source": [
        "def test_model(model, X_test, Y_test):\n",
        "    model_acc = model.evaluate(X_test, Y_test, verbose=0)[1]\n",
        "    print(\"Test Accuracy: {:.3f}%\".format(model_acc * 100))\n",
        "    y_true = np.array(Y_test)\n",
        "    y_pred = model.predict(X_test)\n",
        "    y_pred = np.array(list(map(lambda x: np.argmax(x), y_pred)))\n",
        "    clr = classification_report(y_true, y_pred, target_names=label_mapping.values())\n",
        "    print(clr)\n",
        "    \n",
        "    sample_data = X_test[:15]\n",
        "    plt.figure(figsize=(22, 12))\n",
        "    for i in range(15):\n",
        "        plt.subplot(3, 5, i + 1)\n",
        "        plt.imshow(sample_data[i])\n",
        "        plt.title(label_mapping[y_true[i][0]] + '|' + label_mapping[y_pred[i]])\n",
        "        plt.axis(\"off\")\n",
        "    plt.show() "
      ]
    },
    {
      "cell_type": "markdown",
      "metadata": {
        "id": "IrARcjpOT6gs"
      },
      "source": [
        "training curve plot"
      ]
    },
    {
      "cell_type": "code",
      "execution_count": null,
      "metadata": {
        "id": "gon-cetzT1Ze"
      },
      "outputs": [],
      "source": [
        "def plot_model_training_curve(history):\n",
        "    fig = make_subplots(rows=1, cols=2, subplot_titles=['Model Accuracy', 'Model Loss'])\n",
        "    fig.add_trace(\n",
        "        go.Scatter(\n",
        "            y=history.history['accuracy'], \n",
        "            name='train_acc'), \n",
        "        row=1, col=1)\n",
        "    fig.add_trace(\n",
        "        go.Scatter(\n",
        "            y=history.history['val_accuracy'], \n",
        "            name='val_acc'), \n",
        "        row=1, col=1)\n",
        "    fig.add_trace(\n",
        "        go.Scatter(\n",
        "            y=history.history['loss'], \n",
        "            name='train_loss'), \n",
        "        row=1, col=2)\n",
        "    fig.add_trace(\n",
        "        go.Scatter(\n",
        "            y=history.history['val_loss'], \n",
        "            name='val_loss'), \n",
        "        row=1, col=2)\n",
        "    fig.show()"
      ]
    }
  ],
  "metadata": {
    "accelerator": "GPU",
    "colab": {
      "provenance": []
    },
    "gpuClass": "standard",
    "kernelspec": {
      "display_name": "Python 3",
      "name": "python3"
    },
    "language_info": {
      "name": "python"
    },
    "widgets": {
      "application/vnd.jupyter.widget-state+json": {
        "0225d14451904c6797592e732af03e22": {
          "model_module": "@jupyter-widgets/controls",
          "model_module_version": "1.5.0",
          "model_name": "HTMLModel",
          "state": {
            "_dom_classes": [],
            "_model_module": "@jupyter-widgets/controls",
            "_model_module_version": "1.5.0",
            "_model_name": "HTMLModel",
            "_view_count": null,
            "_view_module": "@jupyter-widgets/controls",
            "_view_module_version": "1.5.0",
            "_view_name": "HTMLView",
            "description": "",
            "description_tooltip": null,
            "layout": "IPY_MODEL_e72d9d8bb9ae43d1bee4b0124c4db5e7",
            "placeholder": "​",
            "style": "IPY_MODEL_e0526b4379e14661b3e9c34d13f4b6e6",
            "value": "100%"
          }
        },
        "030a0e5d60124d94ad31a129862e70db": {
          "model_module": "@jupyter-widgets/base",
          "model_module_version": "1.2.0",
          "model_name": "LayoutModel",
          "state": {
            "_model_module": "@jupyter-widgets/base",
            "_model_module_version": "1.2.0",
            "_model_name": "LayoutModel",
            "_view_count": null,
            "_view_module": "@jupyter-widgets/base",
            "_view_module_version": "1.2.0",
            "_view_name": "LayoutView",
            "align_content": null,
            "align_items": null,
            "align_self": null,
            "border": null,
            "bottom": null,
            "display": null,
            "flex": null,
            "flex_flow": null,
            "grid_area": null,
            "grid_auto_columns": null,
            "grid_auto_flow": null,
            "grid_auto_rows": null,
            "grid_column": null,
            "grid_gap": null,
            "grid_row": null,
            "grid_template_areas": null,
            "grid_template_columns": null,
            "grid_template_rows": null,
            "height": null,
            "justify_content": null,
            "justify_items": null,
            "left": null,
            "margin": null,
            "max_height": null,
            "max_width": null,
            "min_height": null,
            "min_width": null,
            "object_fit": null,
            "object_position": null,
            "order": null,
            "overflow": null,
            "overflow_x": null,
            "overflow_y": null,
            "padding": null,
            "right": null,
            "top": null,
            "visibility": null,
            "width": null
          }
        },
        "1487880a70bc40989ae2f5d46e3f7dcf": {
          "model_module": "@jupyter-widgets/base",
          "model_module_version": "1.2.0",
          "model_name": "LayoutModel",
          "state": {
            "_model_module": "@jupyter-widgets/base",
            "_model_module_version": "1.2.0",
            "_model_name": "LayoutModel",
            "_view_count": null,
            "_view_module": "@jupyter-widgets/base",
            "_view_module_version": "1.2.0",
            "_view_name": "LayoutView",
            "align_content": null,
            "align_items": null,
            "align_self": null,
            "border": null,
            "bottom": null,
            "display": null,
            "flex": null,
            "flex_flow": null,
            "grid_area": null,
            "grid_auto_columns": null,
            "grid_auto_flow": null,
            "grid_auto_rows": null,
            "grid_column": null,
            "grid_gap": null,
            "grid_row": null,
            "grid_template_areas": null,
            "grid_template_columns": null,
            "grid_template_rows": null,
            "height": null,
            "justify_content": null,
            "justify_items": null,
            "left": null,
            "margin": null,
            "max_height": null,
            "max_width": null,
            "min_height": null,
            "min_width": null,
            "object_fit": null,
            "object_position": null,
            "order": null,
            "overflow": null,
            "overflow_x": null,
            "overflow_y": null,
            "padding": null,
            "right": null,
            "top": null,
            "visibility": null,
            "width": null
          }
        },
        "2edf827f97f3400cb38e609f184a765b": {
          "model_module": "@jupyter-widgets/controls",
          "model_module_version": "1.5.0",
          "model_name": "HTMLModel",
          "state": {
            "_dom_classes": [],
            "_model_module": "@jupyter-widgets/controls",
            "_model_module_version": "1.5.0",
            "_model_name": "HTMLModel",
            "_view_count": null,
            "_view_module": "@jupyter-widgets/controls",
            "_view_module_version": "1.5.0",
            "_view_name": "HTMLView",
            "description": "",
            "description_tooltip": null,
            "layout": "IPY_MODEL_1487880a70bc40989ae2f5d46e3f7dcf",
            "placeholder": "​",
            "style": "IPY_MODEL_c585f037025d423abee3c3c5e0f36725",
            "value": " 30.8M/30.8M [00:00&lt;00:00, 37.7MB/s]"
          }
        },
        "4ee9bc634b8248bea796870765451418": {
          "model_module": "@jupyter-widgets/controls",
          "model_module_version": "1.5.0",
          "model_name": "ProgressStyleModel",
          "state": {
            "_model_module": "@jupyter-widgets/controls",
            "_model_module_version": "1.5.0",
            "_model_name": "ProgressStyleModel",
            "_view_count": null,
            "_view_module": "@jupyter-widgets/base",
            "_view_module_version": "1.2.0",
            "_view_name": "StyleView",
            "bar_color": null,
            "description_width": ""
          }
        },
        "66dca930c699434db23ab0b8e5580c99": {
          "model_module": "@jupyter-widgets/controls",
          "model_module_version": "1.5.0",
          "model_name": "HBoxModel",
          "state": {
            "_dom_classes": [],
            "_model_module": "@jupyter-widgets/controls",
            "_model_module_version": "1.5.0",
            "_model_name": "HBoxModel",
            "_view_count": null,
            "_view_module": "@jupyter-widgets/controls",
            "_view_module_version": "1.5.0",
            "_view_name": "HBoxView",
            "box_style": "",
            "children": [
              "IPY_MODEL_0225d14451904c6797592e732af03e22",
              "IPY_MODEL_a047d09a38004adcaaff5ef185546884",
              "IPY_MODEL_2edf827f97f3400cb38e609f184a765b"
            ],
            "layout": "IPY_MODEL_030a0e5d60124d94ad31a129862e70db"
          }
        },
        "83eee5824d2948f58921ea4f054b0e6e": {
          "model_module": "@jupyter-widgets/base",
          "model_module_version": "1.2.0",
          "model_name": "LayoutModel",
          "state": {
            "_model_module": "@jupyter-widgets/base",
            "_model_module_version": "1.2.0",
            "_model_name": "LayoutModel",
            "_view_count": null,
            "_view_module": "@jupyter-widgets/base",
            "_view_module_version": "1.2.0",
            "_view_name": "LayoutView",
            "align_content": null,
            "align_items": null,
            "align_self": null,
            "border": null,
            "bottom": null,
            "display": null,
            "flex": null,
            "flex_flow": null,
            "grid_area": null,
            "grid_auto_columns": null,
            "grid_auto_flow": null,
            "grid_auto_rows": null,
            "grid_column": null,
            "grid_gap": null,
            "grid_row": null,
            "grid_template_areas": null,
            "grid_template_columns": null,
            "grid_template_rows": null,
            "height": null,
            "justify_content": null,
            "justify_items": null,
            "left": null,
            "margin": null,
            "max_height": null,
            "max_width": null,
            "min_height": null,
            "min_width": null,
            "object_fit": null,
            "object_position": null,
            "order": null,
            "overflow": null,
            "overflow_x": null,
            "overflow_y": null,
            "padding": null,
            "right": null,
            "top": null,
            "visibility": null,
            "width": null
          }
        },
        "a047d09a38004adcaaff5ef185546884": {
          "model_module": "@jupyter-widgets/controls",
          "model_module_version": "1.5.0",
          "model_name": "FloatProgressModel",
          "state": {
            "_dom_classes": [],
            "_model_module": "@jupyter-widgets/controls",
            "_model_module_version": "1.5.0",
            "_model_name": "FloatProgressModel",
            "_view_count": null,
            "_view_module": "@jupyter-widgets/controls",
            "_view_module_version": "1.5.0",
            "_view_name": "ProgressView",
            "bar_style": "success",
            "description": "",
            "description_tooltip": null,
            "layout": "IPY_MODEL_83eee5824d2948f58921ea4f054b0e6e",
            "max": 32342954,
            "min": 0,
            "orientation": "horizontal",
            "style": "IPY_MODEL_4ee9bc634b8248bea796870765451418",
            "value": 32342954
          }
        },
        "c585f037025d423abee3c3c5e0f36725": {
          "model_module": "@jupyter-widgets/controls",
          "model_module_version": "1.5.0",
          "model_name": "DescriptionStyleModel",
          "state": {
            "_model_module": "@jupyter-widgets/controls",
            "_model_module_version": "1.5.0",
            "_model_name": "DescriptionStyleModel",
            "_view_count": null,
            "_view_module": "@jupyter-widgets/base",
            "_view_module_version": "1.2.0",
            "_view_name": "StyleView",
            "description_width": ""
          }
        },
        "e0526b4379e14661b3e9c34d13f4b6e6": {
          "model_module": "@jupyter-widgets/controls",
          "model_module_version": "1.5.0",
          "model_name": "DescriptionStyleModel",
          "state": {
            "_model_module": "@jupyter-widgets/controls",
            "_model_module_version": "1.5.0",
            "_model_name": "DescriptionStyleModel",
            "_view_count": null,
            "_view_module": "@jupyter-widgets/base",
            "_view_module_version": "1.2.0",
            "_view_name": "StyleView",
            "description_width": ""
          }
        },
        "e72d9d8bb9ae43d1bee4b0124c4db5e7": {
          "model_module": "@jupyter-widgets/base",
          "model_module_version": "1.2.0",
          "model_name": "LayoutModel",
          "state": {
            "_model_module": "@jupyter-widgets/base",
            "_model_module_version": "1.2.0",
            "_model_name": "LayoutModel",
            "_view_count": null,
            "_view_module": "@jupyter-widgets/base",
            "_view_module_version": "1.2.0",
            "_view_name": "LayoutView",
            "align_content": null,
            "align_items": null,
            "align_self": null,
            "border": null,
            "bottom": null,
            "display": null,
            "flex": null,
            "flex_flow": null,
            "grid_area": null,
            "grid_auto_columns": null,
            "grid_auto_flow": null,
            "grid_auto_rows": null,
            "grid_column": null,
            "grid_gap": null,
            "grid_row": null,
            "grid_template_areas": null,
            "grid_template_columns": null,
            "grid_template_rows": null,
            "height": null,
            "justify_content": null,
            "justify_items": null,
            "left": null,
            "margin": null,
            "max_height": null,
            "max_width": null,
            "min_height": null,
            "min_width": null,
            "object_fit": null,
            "object_position": null,
            "order": null,
            "overflow": null,
            "overflow_x": null,
            "overflow_y": null,
            "padding": null,
            "right": null,
            "top": null,
            "visibility": null,
            "width": null
          }
        }
      }
    }
  },
  "nbformat": 4,
  "nbformat_minor": 0
}